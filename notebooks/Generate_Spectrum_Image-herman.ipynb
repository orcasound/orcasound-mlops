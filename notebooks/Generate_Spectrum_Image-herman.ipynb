{
 "cells": [
  {
   "cell_type": "code",
   "execution_count": 1,
   "metadata": {
    "execution": {
     "iopub.execute_input": "2020-07-19T09:26:31.736202Z",
     "iopub.status.busy": "2020-07-19T09:26:31.735725Z",
     "iopub.status.idle": "2020-07-19T09:26:31.744179Z",
     "shell.execute_reply": "2020-07-19T09:26:31.741078Z",
     "shell.execute_reply.started": "2020-07-19T09:26:31.736163Z"
    }
   },
   "outputs": [],
   "source": [
    "labels=['neg','pos']\n"
   ]
  },
  {
   "cell_type": "code",
   "execution_count": 2,
   "metadata": {
    "execution": {
     "iopub.execute_input": "2020-07-19T09:26:41.864567Z",
     "iopub.status.busy": "2020-07-19T09:26:41.864089Z",
     "iopub.status.idle": "2020-07-19T09:26:42.061965Z",
     "shell.execute_reply": "2020-07-19T09:26:42.059437Z",
     "shell.execute_reply.started": "2020-07-19T09:26:41.864535Z"
    }
   },
   "outputs": [],
   "source": [
    "import scipy                                                                            \n"
   ]
  },
  {
   "cell_type": "code",
   "execution_count": 5,
   "metadata": {
    "execution": {
     "iopub.execute_input": "2020-07-19T09:26:53.225668Z",
     "iopub.status.busy": "2020-07-19T09:26:53.225234Z",
     "iopub.status.idle": "2020-07-19T09:26:54.274103Z",
     "shell.execute_reply": "2020-07-19T09:26:54.272645Z",
     "shell.execute_reply.started": "2020-07-19T09:26:53.225635Z"
    }
   },
   "outputs": [],
   "source": [
    "\n",
    "import matplotlib.pyplot as plt\n",
    "import matplotlib.pyplot as plt\n",
    "from matplotlib.pyplot import specgram \n",
    "import librosa \n",
    "import numpy as np\n",
    "import librosa.display"
   ]
  },
  {
   "cell_type": "code",
   "execution_count": 6,
   "metadata": {
    "execution": {
     "iopub.execute_input": "2020-07-19T09:26:57.366096Z",
     "iopub.status.busy": "2020-07-19T09:26:57.365530Z",
     "iopub.status.idle": "2020-07-19T09:26:57.374561Z",
     "shell.execute_reply": "2020-07-19T09:26:57.372828Z",
     "shell.execute_reply.started": "2020-07-19T09:26:57.366050Z"
    }
   },
   "outputs": [],
   "source": [
    "import os\n",
    "import glob\n",
    "import shutil\n",
    "from pathlib import Path  \n",
    "data_path = Path('data/') \n",
    "spectrogram_path = Path('spectrogram/')  "
   ]
  },
  {
   "cell_type": "code",
   "execution_count": 7,
   "metadata": {
    "execution": {
     "iopub.execute_input": "2020-07-19T09:27:01.580639Z",
     "iopub.status.busy": "2020-07-19T09:27:01.580116Z",
     "iopub.status.idle": "2020-07-19T09:27:01.594757Z",
     "shell.execute_reply": "2020-07-19T09:27:01.593321Z",
     "shell.execute_reply.started": "2020-07-19T09:27:01.580598Z"
    }
   },
   "outputs": [],
   "source": [
    "def create_spectrograms(fold):\n",
    "    spectrogram_path = Path('spectrogram/')  \n",
    "    audio_path = Path('audio/')  \n",
    "    print(f'Processing fold {fold}')\n",
    "    #os.mkdir(spectrogram_path/fold)\n",
    "\n",
    "    print(str(audio_path)+fold)\n",
    "    for audio_file in list(Path(audio_path/f'{fold}').glob('*.wav')):\n",
    "        samples, sample_rate = librosa.load(audio_file)\n",
    "        fig = plt.figure(figsize=[0.72,0.72])\n",
    "        ax = fig.add_subplot(111)\n",
    "        ax.axes.get_xaxis().set_visible(False)\n",
    "        ax.axes.get_yaxis().set_visible(False)\n",
    "        ax.set_frame_on(False)\n",
    "        filename  = spectrogram_path/fold/Path(audio_file).name.replace('.wav','.png')\n",
    "        S = librosa.feature.melspectrogram(y=samples, sr=sample_rate)\n",
    "        librosa.display.specshow(librosa.power_to_db(S, ref=np.max))\n",
    "        plt.savefig(filename, dpi=400, bbox_inches='tight',pad_inches=0)\n",
    "        plt.close('all')\n"
   ]
  },
  {
   "cell_type": "code",
   "execution_count": 9,
   "metadata": {
    "execution": {
     "iopub.execute_input": "2020-07-19T09:28:06.340066Z",
     "iopub.status.busy": "2020-07-19T09:28:06.339422Z",
     "iopub.status.idle": "2020-07-19T09:45:39.218547Z",
     "shell.execute_reply": "2020-07-19T09:45:39.217487Z",
     "shell.execute_reply.started": "2020-07-19T09:28:06.340018Z"
    }
   },
   "outputs": [
    {
     "name": "stdout",
     "output_type": "stream",
     "text": [
      "Processing fold neg\n",
      "audioneg\n",
      "Processing fold pos\n",
      "audiopos\n"
     ]
    }
   ],
   "source": [
    "for label in labels:\n",
    "        create_spectrograms(label)"
   ]
  },
  {
   "cell_type": "code",
   "execution_count": 10,
   "metadata": {
    "execution": {
     "iopub.execute_input": "2020-07-19T09:52:31.174308Z",
     "iopub.status.busy": "2020-07-19T09:52:31.173940Z",
     "iopub.status.idle": "2020-07-19T09:52:31.186939Z",
     "shell.execute_reply": "2020-07-19T09:52:31.185900Z",
     "shell.execute_reply.started": "2020-07-19T09:52:31.174280Z"
    }
   },
   "outputs": [],
   "source": [
    "\n",
    "import os\n",
    "import glob\n",
    "import shutil\n",
    "from pathlib import Path  \n",
    "data_path = Path('data/') \n",
    "spectrogram_path = Path('spectrogram/')  \n",
    "\n",
    "def create_fold_directory(fold):\n",
    "    png_files =  list(Path(spectrogram_path/f'{fold}').glob('*.png'))\n",
    "    print ('There are '+str(len(png_files))+ ' files in '+ str(spectrogram_path/f'{fold}'))\n",
    "    os.makedirs(data_path/f'{fold}', exist_ok=True)\n",
    "    os.makedirs(data_path/f'{fold}/train', exist_ok=True)\n",
    "    os.makedirs(data_path/f'{fold}/valid', exist_ok=True)\n",
    "    #for label in labels:\n",
    "        #os.makedirs(data_path/f'{fold}/train/{label}', exist_ok=True)\n",
    "        #os.makedirs(data_path/f'{fold}/valid/{label}', exist_ok=True)\n",
    "     \n",
    "    for file in png_files:\n",
    "        #print (file.as_posix())\n",
    "        label = file.as_posix().split('/')[2]\n",
    "        #print(label)\n",
    "        #shutil.copyfile(file, data_path/f'{fold}/valid/{label}-{file.name}') \n",
    "        shutil.copyfile(file, data_path/f'{fold}/valid/{label}-{file.name}')   \n",
    "    for label in labels:       \n",
    "        #if label == fold:\n",
    "        #    continue\n",
    "        png_files =  list(Path(spectrogram_path/f'{fold}').glob('*.png'))\n",
    "        for file in png_files:\n",
    "            label = file.as_posix().split('/')[2]\n",
    "            shutil.copyfile(file, data_path/f'{fold}/train/{label}-{file.name}')\n"
   ]
  },
  {
   "cell_type": "code",
   "execution_count": 11,
   "metadata": {
    "execution": {
     "iopub.execute_input": "2020-07-19T09:52:36.756207Z",
     "iopub.status.busy": "2020-07-19T09:52:36.755770Z",
     "iopub.status.idle": "2020-07-19T09:58:30.644510Z",
     "shell.execute_reply": "2020-07-19T09:58:30.643412Z",
     "shell.execute_reply.started": "2020-07-19T09:52:36.756176Z"
    }
   },
   "outputs": [
    {
     "name": "stdout",
     "output_type": "stream",
     "text": [
      "There are 4736 files in spectrogram/neg\n",
      "There are 150 files in spectrogram/pos\n"
     ]
    }
   ],
   "source": [
    "for label in labels:\n",
    "        create_fold_directory(label)\n"
   ]
  },
  {
   "cell_type": "code",
   "execution_count": 12,
   "metadata": {
    "execution": {
     "iopub.execute_input": "2020-07-19T09:58:30.646203Z",
     "iopub.status.busy": "2020-07-19T09:58:30.645883Z",
     "iopub.status.idle": "2020-07-19T09:58:33.148789Z",
     "shell.execute_reply": "2020-07-19T09:58:33.147736Z",
     "shell.execute_reply.started": "2020-07-19T09:58:30.646173Z"
    }
   },
   "outputs": [],
   "source": [
    "%reload_ext autoreload\n",
    "%autoreload 2\n",
    "%matplotlib inline\n",
    "from fastai import *\n",
    "from fastai.vision import *\n"
   ]
  },
  {
   "cell_type": "code",
   "execution_count": null,
   "metadata": {},
   "outputs": [],
   "source": [
    "data_directory = Path('datasampletest/dataforTrain')\n",
    "# don't use any transformations because it doesn't make sense in the case of a spectrogram\n",
    "# i.e. flipping a spectrogram changes the meaning\n",
    "data = ImageDataBunch.from_folder(data_directory, ds_tfms=[], size=224)\n",
    "data.normalize(imagenet_stats)\n"
   ]
  }
 ],
 "metadata": {
  "kernelspec": {
   "display_name": "py37",
   "language": "python",
   "name": "py37"
  },
  "language_info": {
   "codemirror_mode": {
    "name": "ipython",
    "version": 3
   },
   "file_extension": ".py",
   "mimetype": "text/x-python",
   "name": "python",
   "nbconvert_exporter": "python",
   "pygments_lexer": "ipython3",
   "version": "3.7.7"
  }
 },
 "nbformat": 4,
 "nbformat_minor": 4
}
